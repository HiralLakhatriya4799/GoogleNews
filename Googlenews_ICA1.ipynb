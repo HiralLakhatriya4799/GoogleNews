{
 "cells": [
  {
   "cell_type": "markdown",
   "id": "71843865",
   "metadata": {},
   "source": [
    "This is my project about fetching GoogleNews for keyword \"Cloud Computing\""
   ]
  },
  {
   "cell_type": "markdown",
   "id": "626db39d",
   "metadata": {},
   "source": [
    "Initially installing GoogleNews"
   ]
  },
  {
   "cell_type": "code",
   "execution_count": 1,
   "id": "a1a9e465",
   "metadata": {
    "scrolled": true
   },
   "outputs": [
    {
     "name": "stdout",
     "output_type": "stream",
     "text": [
      "Requirement already satisfied: GoogleNews in c:\\users\\hiral\\anaconda3-2023\\lib\\site-packages (1.6.8)\n",
      "Requirement already satisfied: python-dateutil in c:\\users\\hiral\\anaconda3-2023\\lib\\site-packages (from GoogleNews) (2.8.2)\n",
      "Requirement already satisfied: dateparser in c:\\users\\hiral\\anaconda3-2023\\lib\\site-packages (from GoogleNews) (1.1.8)\n",
      "Requirement already satisfied: beautifulsoup4 in c:\\users\\hiral\\anaconda3-2023\\lib\\site-packages (from GoogleNews) (4.11.1)\n",
      "Requirement already satisfied: soupsieve>1.2 in c:\\users\\hiral\\anaconda3-2023\\lib\\site-packages (from beautifulsoup4->GoogleNews) (2.3.2.post1)\n",
      "Requirement already satisfied: pytz in c:\\users\\hiral\\anaconda3-2023\\lib\\site-packages (from dateparser->GoogleNews) (2022.7)\n",
      "Requirement already satisfied: tzlocal in c:\\users\\hiral\\anaconda3-2023\\lib\\site-packages (from dateparser->GoogleNews) (5.0.1)\n",
      "Requirement already satisfied: regex!=2019.02.19,!=2021.8.27 in c:\\users\\hiral\\anaconda3-2023\\lib\\site-packages (from dateparser->GoogleNews) (2022.7.9)\n",
      "Requirement already satisfied: six>=1.5 in c:\\users\\hiral\\anaconda3-2023\\lib\\site-packages (from python-dateutil->GoogleNews) (1.16.0)\n",
      "Requirement already satisfied: tzdata in c:\\users\\hiral\\anaconda3-2023\\lib\\site-packages (from tzlocal->dateparser->GoogleNews) (2023.3)\n",
      "Note: you may need to restart the kernel to use updated packages.\n"
     ]
    }
   ],
   "source": [
    "pip install GoogleNews"
   ]
  },
  {
   "cell_type": "code",
   "execution_count": 2,
   "id": "abf80076",
   "metadata": {},
   "outputs": [],
   "source": [
    "#Importing GoogleNews\n",
    "from GoogleNews import GoogleNews"
   ]
  },
  {
   "cell_type": "markdown",
   "id": "2041b5be",
   "metadata": {},
   "source": [
    "Installing Pandas library"
   ]
  },
  {
   "cell_type": "code",
   "execution_count": 3,
   "id": "df6231fb",
   "metadata": {},
   "outputs": [],
   "source": [
    "#Importing pandas library as alias pd\n",
    "import pandas as pd"
   ]
  },
  {
   "cell_type": "code",
   "execution_count": 4,
   "id": "4e8697b2",
   "metadata": {},
   "outputs": [],
   "source": [
    "#Defining instance variable\n",
    "news_letter = GoogleNews()"
   ]
  },
  {
   "cell_type": "code",
   "execution_count": 5,
   "id": "291c0779",
   "metadata": {},
   "outputs": [
    {
     "name": "stdout",
     "output_type": "stream",
     "text": [
      "1.6.8\n"
     ]
    }
   ],
   "source": [
    "#Cheching GoogleNews version\n",
    "print(news_letter.getVersion())"
   ]
  },
  {
   "cell_type": "code",
   "execution_count": 6,
   "id": "0c2a5ecd",
   "metadata": {},
   "outputs": [],
   "source": [
    "#Set Exception value, Lamguage, Region ,Periods for result from provided Start and end day \n",
    "news_letter.enableException(True)\n",
    "news_letter = GoogleNews(lang='en', region='US')\n",
    "news_letter = GoogleNews(period='7d')\n",
    "news_letter = GoogleNews(start='01/01/2020',end='05/05/2023')\n",
    "news_letter = GoogleNews(encode='utf-8')"
   ]
  }
 ],
 "metadata": {
  "kernelspec": {
   "display_name": "Python 3 (ipykernel)",
   "language": "python",
   "name": "python3"
  },
  "language_info": {
   "codemirror_mode": {
    "name": "ipython",
    "version": 3
   },
   "file_extension": ".py",
   "mimetype": "text/x-python",
   "name": "python",
   "nbconvert_exporter": "python",
   "pygments_lexer": "ipython3",
   "version": "3.10.9"
  }
 },
 "nbformat": 4,
 "nbformat_minor": 5
}
